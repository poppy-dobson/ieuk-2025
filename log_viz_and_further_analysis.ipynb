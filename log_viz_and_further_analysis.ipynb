{
 "cells": [
  {
   "cell_type": "markdown",
   "id": "74b667d6",
   "metadata": {},
   "source": [
    "### Log File Analysis\n",
    "\n",
    "This code adds to that in log_analysis.py, doing further analysis and visualisation to help uncover some of the trends in activity."
   ]
  },
  {
   "cell_type": "markdown",
   "id": "c66c3a6f",
   "metadata": {},
   "source": [
    "#### Importing & Loading the log file"
   ]
  },
  {
   "cell_type": "code",
   "execution_count": 26,
   "id": "b01408ea",
   "metadata": {},
   "outputs": [],
   "source": [
    "import log_analysis # make sure this is in the same directory\n",
    "import matplotlib.pyplot as plt\n",
    "import pandas as pd"
   ]
  },
  {
   "cell_type": "code",
   "execution_count": null,
   "id": "50b7180e",
   "metadata": {},
   "outputs": [],
   "source": [
    "path = 'sample-log.log' # make this the log file name\n",
    "log = log_analysis.LogFileAnalysis(path)"
   ]
  },
  {
   "cell_type": "code",
   "execution_count": 3,
   "id": "a8c6d9c0",
   "metadata": {},
   "outputs": [
    {
     "name": "stdout",
     "output_type": "stream",
     "text": [
      "info:\n",
      "<class 'pandas.core.frame.DataFrame'>\n",
      "RangeIndex: 432096 entries, 0 to 432095\n",
      "Data columns (total 18 columns):\n",
      " #   Column       Non-Null Count   Dtype         \n",
      "---  ------       --------------   -----         \n",
      " 0   IP           432096 non-null  object        \n",
      " 1   Country      432096 non-null  object        \n",
      " 2   Datetime     432096 non-null  datetime64[ns]\n",
      " 3   Request      432096 non-null  object        \n",
      " 4   Code         432096 non-null  object        \n",
      " 5   User Agent   432096 non-null  object        \n",
      " 6   Object Size  432096 non-null  int32         \n",
      " 7   Date         432096 non-null  object        \n",
      " 8   Year         432096 non-null  int32         \n",
      " 9   Month        432096 non-null  int32         \n",
      " 10  Day          432096 non-null  int32         \n",
      " 11  Hour         432096 non-null  int32         \n",
      " 12  Minute       432096 non-null  int32         \n",
      " 13  Date Hour    432096 non-null  object        \n",
      " 14  Code Class   432096 non-null  object        \n",
      " 15  Req Code     432096 non-null  object        \n",
      " 16  Page         432096 non-null  object        \n",
      " 17  Page Main    432096 non-null  object        \n",
      "dtypes: datetime64[ns](1), int32(6), object(11)\n",
      "memory usage: 49.4+ MB\n"
     ]
    },
    {
     "data": {
      "text/plain": [
       "None"
      ]
     },
     "metadata": {},
     "output_type": "display_data"
    },
    {
     "name": "stdout",
     "output_type": "stream",
     "text": [
      "\n",
      "first few lines of log file:\n"
     ]
    },
    {
     "data": {
      "text/html": [
       "<div>\n",
       "<style scoped>\n",
       "    .dataframe tbody tr th:only-of-type {\n",
       "        vertical-align: middle;\n",
       "    }\n",
       "\n",
       "    .dataframe tbody tr th {\n",
       "        vertical-align: top;\n",
       "    }\n",
       "\n",
       "    .dataframe thead th {\n",
       "        text-align: right;\n",
       "    }\n",
       "</style>\n",
       "<table border=\"1\" class=\"dataframe\">\n",
       "  <thead>\n",
       "    <tr style=\"text-align: right;\">\n",
       "      <th></th>\n",
       "      <th>IP</th>\n",
       "      <th>Country</th>\n",
       "      <th>Datetime</th>\n",
       "      <th>Request</th>\n",
       "      <th>Code</th>\n",
       "      <th>User Agent</th>\n",
       "      <th>Object Size</th>\n",
       "      <th>Date</th>\n",
       "      <th>Year</th>\n",
       "      <th>Month</th>\n",
       "      <th>Day</th>\n",
       "      <th>Hour</th>\n",
       "      <th>Minute</th>\n",
       "      <th>Date Hour</th>\n",
       "      <th>Code Class</th>\n",
       "      <th>Req Code</th>\n",
       "      <th>Page</th>\n",
       "      <th>Page Main</th>\n",
       "    </tr>\n",
       "  </thead>\n",
       "  <tbody>\n",
       "    <tr>\n",
       "      <th>0</th>\n",
       "      <td>100.34.17.233</td>\n",
       "      <td>NO</td>\n",
       "      <td>2025-07-01 06:00:02</td>\n",
       "      <td>GET /news/grammy-nominations-2024 HTTP/1.1</td>\n",
       "      <td>302</td>\n",
       "      <td>Mozilla/5.0 (Macintosh; Intel Mac OS X 10_15_7...</td>\n",
       "      <td>269</td>\n",
       "      <td>2025-07-01</td>\n",
       "      <td>2025</td>\n",
       "      <td>7</td>\n",
       "      <td>1</td>\n",
       "      <td>6</td>\n",
       "      <td>0</td>\n",
       "      <td>2025-07-01:06</td>\n",
       "      <td>3</td>\n",
       "      <td>GET</td>\n",
       "      <td>/news/grammy-nominations-2024</td>\n",
       "      <td>news</td>\n",
       "    </tr>\n",
       "    <tr>\n",
       "      <th>1</th>\n",
       "      <td>173.80.18.254</td>\n",
       "      <td>NO</td>\n",
       "      <td>2025-07-01 06:00:04</td>\n",
       "      <td>POST / HTTP/1.1</td>\n",
       "      <td>200</td>\n",
       "      <td>Mozilla/5.0 (Macintosh; Intel Mac OS X 10_15_7...</td>\n",
       "      <td>124</td>\n",
       "      <td>2025-07-01</td>\n",
       "      <td>2025</td>\n",
       "      <td>7</td>\n",
       "      <td>1</td>\n",
       "      <td>6</td>\n",
       "      <td>0</td>\n",
       "      <td>2025-07-01:06</td>\n",
       "      <td>2</td>\n",
       "      <td>POST</td>\n",
       "      <td>/</td>\n",
       "      <td></td>\n",
       "    </tr>\n",
       "    <tr>\n",
       "      <th>2</th>\n",
       "      <td>10.3.0.48</td>\n",
       "      <td>SE</td>\n",
       "      <td>2025-07-01 06:00:06</td>\n",
       "      <td>GET /podcasts/behind-the-beat HTTP/1.1</td>\n",
       "      <td>200</td>\n",
       "      <td>Mozilla/5.0 (iPhone; CPU iPhone OS 17_2_1 like...</td>\n",
       "      <td>284</td>\n",
       "      <td>2025-07-01</td>\n",
       "      <td>2025</td>\n",
       "      <td>7</td>\n",
       "      <td>1</td>\n",
       "      <td>6</td>\n",
       "      <td>0</td>\n",
       "      <td>2025-07-01:06</td>\n",
       "      <td>2</td>\n",
       "      <td>GET</td>\n",
       "      <td>/podcasts/behind-the-beat</td>\n",
       "      <td>podcasts</td>\n",
       "    </tr>\n",
       "    <tr>\n",
       "      <th>3</th>\n",
       "      <td>172.56.143.33</td>\n",
       "      <td>US</td>\n",
       "      <td>2025-07-01 06:00:08</td>\n",
       "      <td>GET /terms-of-service HTTP/1.1</td>\n",
       "      <td>200</td>\n",
       "      <td>Mozilla/5.0 (iPhone; CPU iPhone OS 17_2_1 like...</td>\n",
       "      <td>262</td>\n",
       "      <td>2025-07-01</td>\n",
       "      <td>2025</td>\n",
       "      <td>7</td>\n",
       "      <td>1</td>\n",
       "      <td>6</td>\n",
       "      <td>0</td>\n",
       "      <td>2025-07-01:06</td>\n",
       "      <td>2</td>\n",
       "      <td>GET</td>\n",
       "      <td>/terms-of-service</td>\n",
       "      <td>terms-of-service</td>\n",
       "    </tr>\n",
       "    <tr>\n",
       "      <th>4</th>\n",
       "      <td>208.54.157.184</td>\n",
       "      <td>NO</td>\n",
       "      <td>2025-07-01 06:00:09</td>\n",
       "      <td>POST /privacy-policy HTTP/1.1</td>\n",
       "      <td>200</td>\n",
       "      <td>Mozilla/5.0 (Windows NT 10.0; Win64; x64) Appl...</td>\n",
       "      <td>118</td>\n",
       "      <td>2025-07-01</td>\n",
       "      <td>2025</td>\n",
       "      <td>7</td>\n",
       "      <td>1</td>\n",
       "      <td>6</td>\n",
       "      <td>0</td>\n",
       "      <td>2025-07-01:06</td>\n",
       "      <td>2</td>\n",
       "      <td>POST</td>\n",
       "      <td>/privacy-policy</td>\n",
       "      <td>privacy-policy</td>\n",
       "    </tr>\n",
       "  </tbody>\n",
       "</table>\n",
       "</div>"
      ],
      "text/plain": [
       "               IP Country            Datetime  \\\n",
       "0   100.34.17.233      NO 2025-07-01 06:00:02   \n",
       "1   173.80.18.254      NO 2025-07-01 06:00:04   \n",
       "2       10.3.0.48      SE 2025-07-01 06:00:06   \n",
       "3   172.56.143.33      US 2025-07-01 06:00:08   \n",
       "4  208.54.157.184      NO 2025-07-01 06:00:09   \n",
       "\n",
       "                                      Request Code  \\\n",
       "0  GET /news/grammy-nominations-2024 HTTP/1.1  302   \n",
       "1                             POST / HTTP/1.1  200   \n",
       "2      GET /podcasts/behind-the-beat HTTP/1.1  200   \n",
       "3              GET /terms-of-service HTTP/1.1  200   \n",
       "4               POST /privacy-policy HTTP/1.1  200   \n",
       "\n",
       "                                          User Agent  Object Size        Date  \\\n",
       "0  Mozilla/5.0 (Macintosh; Intel Mac OS X 10_15_7...          269  2025-07-01   \n",
       "1  Mozilla/5.0 (Macintosh; Intel Mac OS X 10_15_7...          124  2025-07-01   \n",
       "2  Mozilla/5.0 (iPhone; CPU iPhone OS 17_2_1 like...          284  2025-07-01   \n",
       "3  Mozilla/5.0 (iPhone; CPU iPhone OS 17_2_1 like...          262  2025-07-01   \n",
       "4  Mozilla/5.0 (Windows NT 10.0; Win64; x64) Appl...          118  2025-07-01   \n",
       "\n",
       "   Year  Month  Day  Hour  Minute      Date Hour Code Class Req Code  \\\n",
       "0  2025      7    1     6       0  2025-07-01:06          3      GET   \n",
       "1  2025      7    1     6       0  2025-07-01:06          2     POST   \n",
       "2  2025      7    1     6       0  2025-07-01:06          2      GET   \n",
       "3  2025      7    1     6       0  2025-07-01:06          2      GET   \n",
       "4  2025      7    1     6       0  2025-07-01:06          2     POST   \n",
       "\n",
       "                            Page         Page Main  \n",
       "0  /news/grammy-nominations-2024              news  \n",
       "1                              /                    \n",
       "2      /podcasts/behind-the-beat          podcasts  \n",
       "3              /terms-of-service  terms-of-service  \n",
       "4                /privacy-policy    privacy-policy  "
      ]
     },
     "metadata": {},
     "output_type": "display_data"
    }
   ],
   "source": [
    "log_df = log.log_df\n",
    "print(\"info:\")\n",
    "display(log_df.info())\n",
    "print()\n",
    "print(\"first few lines of log file:\")\n",
    "display(log_df.head())"
   ]
  },
  {
   "cell_type": "markdown",
   "id": "a21188fb",
   "metadata": {},
   "source": [
    "#### Initial Report\n",
    "\n",
    "seen when running log_analysis.py:"
   ]
  },
  {
   "cell_type": "code",
   "execution_count": 4,
   "id": "89a1e841",
   "metadata": {},
   "outputs": [
    {
     "name": "stdout",
     "output_type": "stream",
     "text": [
      "SUMMARY OF LOG FILE:\n",
      "total number of logs submitted: 432096\n",
      "\n",
      "first log: 2025-07-01 06:00:02\n",
      "last log: 2025-07-04 22:59:59\n",
      "\n",
      "no. unique IP addresses: 40887\n",
      "\n",
      "no. unique country codes: 14\n",
      "\n",
      "no. valid requests (2xx): 354706\n",
      "\n",
      "IP ADDRESSES:\n",
      "top 25 IP addresses found (number of requests made):\n",
      "IP\n",
      "45.133.1.2         5400\n",
      "45.133.1.1         5400\n",
      "35.185.0.156       3600\n",
      "194.168.1.2        1859\n",
      "194.168.1.6        1855\n",
      "194.168.1.8        1831\n",
      "194.168.1.3        1798\n",
      "194.168.1.1        1789\n",
      "194.168.1.7        1767\n",
      "194.168.1.4        1763\n",
      "194.168.1.5        1738\n",
      "185.220.101.86     1440\n",
      "185.220.100.77     1440\n",
      "185.220.101.19     1440\n",
      "185.220.102.135    1440\n",
      "185.220.101.78     1440\n",
      "172.25.2.223         47\n",
      "192.168.45.153       46\n",
      "192.168.21.180       42\n",
      "172.27.2.90          42\n",
      "192.168.26.218       42\n",
      "192.168.3.22         41\n",
      "192.168.43.58        41\n",
      "172.20.3.37          40\n",
      "192.168.5.26         40\n",
      "\n",
      "IP addresses with a suspicious number of requests (over 100 per day on average):\n",
      "IP\n",
      "45.133.1.2         5400\n",
      "45.133.1.1         5400\n",
      "35.185.0.156       3600\n",
      "194.168.1.2        1859\n",
      "194.168.1.6        1855\n",
      "194.168.1.8        1831\n",
      "194.168.1.3        1798\n",
      "194.168.1.1        1789\n",
      "194.168.1.7        1767\n",
      "194.168.1.4        1763\n",
      "194.168.1.5        1738\n",
      "185.220.101.86     1440\n",
      "185.220.100.77     1440\n",
      "185.220.101.19     1440\n",
      "185.220.102.135    1440\n",
      "185.220.101.78     1440\n",
      "\n",
      "DATES & TIMES\n",
      "number of requests on each day, ordered by date:\n",
      "Date\n",
      "2025-07-01     99202\n",
      "2025-07-02    113264\n",
      "2025-07-03    113351\n",
      "2025-07-04    106279\n",
      "\n",
      "number of requests by hour of day\n",
      "Hour\n",
      "5      3600\n",
      "6      7216\n",
      "7      7256\n",
      "8     21589\n",
      "9     21567\n",
      "10    21526\n",
      "11    21641\n",
      "12    64939\n",
      "13    21636\n",
      "14    21582\n",
      "15    61172\n",
      "16    50444\n",
      "17    50358\n",
      "18    21523\n",
      "19    10825\n",
      "20    10837\n",
      "21     7153\n",
      "22     7232\n",
      "the top hours of day to prepare for traffic for are: [12, 15, 16, 17, 11]\n",
      "\n",
      "number of requests by day AND hour\n",
      "Date Hour\n",
      "2025-07-01:06     1818\n",
      "2025-07-01:07     1807\n",
      "2025-07-01:08     5446\n",
      "2025-07-01:09     5393\n",
      "2025-07-01:10     5404\n",
      "2025-07-01:11     5409\n",
      "2025-07-01:12    12624\n",
      "2025-07-01:13     5379\n",
      "2025-07-01:14     5419\n",
      "2025-07-01:15    12615\n",
      "2025-07-01:16    12621\n",
      "2025-07-01:17    12611\n",
      "2025-07-01:18     5382\n",
      "2025-07-01:19     1821\n",
      "2025-07-01:20     1831\n",
      "2025-07-01:21     1792\n",
      "2025-07-01:22     1830\n",
      "2025-07-02:05     3600\n",
      "2025-07-02:06     1824\n",
      "2025-07-02:07     1838\n",
      "2025-07-02:08     5379\n",
      "2025-07-02:09     5391\n",
      "2025-07-02:10     5412\n",
      "2025-07-02:11     5399\n",
      "2025-07-02:12    12625\n",
      "2025-07-02:13     5380\n",
      "2025-07-02:14     5381\n",
      "2025-07-02:15    23373\n",
      "2025-07-02:16    12570\n",
      "2025-07-02:17    12563\n",
      "2025-07-02:18     5380\n",
      "2025-07-02:19     1758\n",
      "2025-07-02:20     1766\n",
      "2025-07-02:21     1830\n",
      "2025-07-02:22     1795\n",
      "2025-07-03:06     1770\n",
      "2025-07-03:07     1796\n",
      "2025-07-03:08     5355\n",
      "2025-07-03:09     5392\n",
      "2025-07-03:10     5367\n",
      "2025-07-03:11     5391\n",
      "2025-07-03:12    27067\n",
      "2025-07-03:13     5447\n",
      "2025-07-03:14     5375\n",
      "2025-07-03:15    12585\n",
      "2025-07-03:16    12629\n",
      "2025-07-03:17    12596\n",
      "2025-07-03:18     5386\n",
      "2025-07-03:19     1805\n",
      "2025-07-03:20     1808\n",
      "2025-07-03:21     1755\n",
      "2025-07-03:22     1827\n",
      "2025-07-04:06     1804\n",
      "2025-07-04:07     1815\n",
      "2025-07-04:08     5409\n",
      "2025-07-04:09     5391\n",
      "2025-07-04:10     5343\n",
      "2025-07-04:11     5442\n",
      "2025-07-04:12    12623\n",
      "2025-07-04:13     5430\n",
      "2025-07-04:14     5407\n",
      "2025-07-04:15    12599\n",
      "2025-07-04:16    12624\n",
      "2025-07-04:17    12588\n",
      "2025-07-04:18     5375\n",
      "2025-07-04:19     5441\n",
      "2025-07-04:20     5432\n",
      "2025-07-04:21     1776\n",
      "2025-07-04:22     1780\n",
      "the peak moments of traffic were:\n",
      "Date Hour\n",
      "2025-07-01:12    12624\n",
      "2025-07-02:12    12625\n",
      "2025-07-02:15    23373\n",
      "2025-07-03:12    27067\n",
      "2025-07-03:16    12629\n",
      "2025-07-04:12    12623\n",
      "2025-07-04:16    12624\n",
      "\n",
      "LOCATION\n",
      "top country codes:\n",
      "Country\n",
      "UK    54215\n",
      "US    43175\n",
      "SE    39740\n",
      "NL    39723\n",
      "DE    39629\n",
      "CA    39619\n",
      "FR    39615\n",
      "AU    39502\n",
      "NO    39463\n",
      "DK    39415\n",
      "RU    12629\n",
      "CN     1809\n",
      "KP     1788\n",
      "IR     1774\n",
      "\n",
      "PAGES VISITED\n",
      "top areas of the site visited:\n",
      "Page Main\n",
      "api               75108\n",
      "podcasts          31321\n",
      "articles          31126\n",
      "images            29864\n",
      "static            29770\n",
      "episodes          15876\n",
      "contact           15839\n",
      "about             15729\n",
      "artists           15685\n",
      "privacy-policy    15666\n",
      "\n",
      "top specific pages visited:\n",
      "Page\n",
      "/episodes/ep-42-synthesizer-history         15876\n",
      "/contact                                    15839\n",
      "/about                                      15729\n",
      "/podcasts/music-producer-interviews         15685\n",
      "/artists/emerging-indie-artists             15685\n",
      "/privacy-policy                             15666\n",
      "/articles/indie-rock-revival-2024           15656\n",
      "/podcasts/behind-the-beat                   15636\n",
      "/interviews/studio-sessions-with-legends    15624\n",
      "/reviews/album-review-midnight-echoes       15599\n",
      "/terms-of-service                           15595\n",
      "/news/grammy-nominations-2024               15511\n",
      "/subscribe-premium                          15496\n",
      "/articles/the-evolution-of-jazz             15470\n",
      "/genres/electronic-music-guide              15436\n",
      "/api/podcasts                               15175\n",
      "/                                           15111\n",
      "/images/logo.png                            15012\n",
      "/favicon.ico                                15011\n",
      "/static/css/main.css                        14958\n",
      "/api/articles                               14941\n",
      "/api/episodes                               14880\n",
      "/images/banner.jpg                          14852\n",
      "/static/js/app.js                           14812\n",
      "/search                                      4182\n",
      "\n",
      "USER AGENTS\n",
      "top user agent headers found\n",
      "User Agent\n",
      "Mozilla/5.0 (Windows NT 10.0; Win64; x64) AppleWebKit/537.36 (KHTML, like Gecko) Chrome/120.0.0.0 Safari/537.36                              44882\n",
      "Mozilla/5.0 (Macintosh; Intel Mac OS X 10_15_7) AppleWebKit/537.36 (KHTML, like Gecko) Version/17.2.1 Safari/537.36                          42954\n",
      "Mozilla/5.0 (iPhone; CPU iPhone OS 17_2_1 like Mac OS X) AppleWebKit/605.1.15 (KHTML, like Gecko) Version/17.2 Mobile/15E148 Safari/604.1    41481\n",
      "Mozilla/5.0 (Windows NT 10.0; Win64; x64) AppleWebKit/537.36 (KHTML, like Gecko) Chrome/120.0.0.0 Safari/537.36 Edg/120.0.0.0                41233\n",
      "Mozilla/5.0 (Macintosh; Intel Mac OS X 10_15_7) AppleWebKit/537.36 (KHTML, like Gecko) Chrome/120.0.0.0 Safari/537.36                        41137\n",
      "Mozilla/5.0 (Windows NT 10.0; Win64; x64; rv:121.0) Gecko/20100101 Firefox/121.0                                                             39852\n",
      "Mozilla/5.0 (Android 14; Mobile; rv:121.0) Gecko/121.0 Firefox/121.0                                                                         39817\n",
      "Mozilla/5.0 (X11; Linux x86_64) AppleWebKit/537.36 (KHTML, like Gecko) Chrome/120.0.0.0 Safari/537.36                                        39816\n",
      "Mozilla/5.0 (Linux; Android 14; SM-G998B) AppleWebKit/537.36 (KHTML, like Gecko) Chrome/120.0.0.0 Mobile Safari/537.36                       39670\n",
      "Mozilla/5.0 (iPad; CPU OS 17_2_1 like Mac OS X) AppleWebKit/605.1.15 (KHTML, like Gecko) Version/17.2 Mobile/15E148 Safari/604.1             39654\n",
      "Wget/1.20.3 (linux-gnu)                                                                                                                       3600\n",
      "curl/7.68.0                                                                                                                                   2173\n",
      "HTTPie/3.2.0                                                                                                                                  2075\n",
      "python-requests/2.28.1                                                                                                                        2069\n",
      "sqlmap/1.6.12                                                                                                                                 1267\n",
      "Postman/1.0                                                                                                                                   1246\n",
      "OWASP ZAP                                                                                                                                     1235\n",
      "nikto/2.1.6                                                                                                                                   1184\n",
      "Burp Suite Professional                                                                                                                       1172\n",
      "Mozilla/5.0 (compatible; Nmap Scripting Engine)                                                                                               1117\n",
      "\n",
      "least frequent user agent headers found\n",
      "User Agent\n",
      "Wget/1.20.3 (linux-gnu)                                         3600\n",
      "curl/7.68.0                                                     2173\n",
      "HTTPie/3.2.0                                                    2075\n",
      "python-requests/2.28.1                                          2069\n",
      "sqlmap/1.6.12                                                   1267\n",
      "Postman/1.0                                                     1246\n",
      "OWASP ZAP                                                       1235\n",
      "nikto/2.1.6                                                     1184\n",
      "Burp Suite Professional                                         1172\n",
      "Mozilla/5.0 (compatible; Nmap Scripting Engine)                 1117\n",
      "Apache-HttpClient/4.5.13                                         932\n",
      "Mozilla/5.0 (Windows NT 10.0; Win64; x64) AppleWebKit/537.36     911\n",
      "Mozilla/5.0 (X11; Linux x86_64) AppleWebKit/537.36               896\n",
      "PostmanRuntime/7.32.3                                            882\n",
      "okhttp/4.9.3                                                     841\n",
      "inspect this list for any that seem suspicious\n"
     ]
    }
   ],
   "source": [
    "log.print_full_report()"
   ]
  },
  {
   "cell_type": "markdown",
   "id": "690c1b1b",
   "metadata": {},
   "source": [
    "#### Further Analysis"
   ]
  },
  {
   "cell_type": "markdown",
   "id": "0d8708d4",
   "metadata": {},
   "source": [
    "##### Suspicious IP Adresses"
   ]
  },
  {
   "cell_type": "code",
   "execution_count": 10,
   "id": "4ba2dde6",
   "metadata": {},
   "outputs": [
    {
     "name": "stdout",
     "output_type": "stream",
     "text": [
      "36000\n",
      "396096\n"
     ]
    }
   ],
   "source": [
    "suspicious_IPs = log.ip_alarming.index\n",
    "log_df_suspicious = log_df[log_df['IP'].isin(suspicious_IPs)]\n",
    "log_df_not_suspicious = log_df[~log_df['IP'].isin(suspicious_IPs)]\n",
    "print(len(log_df_suspicious))\n",
    "print(len(log_df_not_suspicious))"
   ]
  },
  {
   "cell_type": "code",
   "execution_count": 42,
   "id": "fe41ef0c",
   "metadata": {},
   "outputs": [
    {
     "data": {
      "image/png": "[encoded data removed]",
      "text/plain": [
       "<Figure size 1400x400 with 1 Axes>"
      ]
     },
     "metadata": {},
     "output_type": "display_data"
    }
   ],
   "source": [
    "# when were they making their requests\n",
    "\n",
    "suspicious_req_count = log_df_suspicious.groupby(pd.Grouper(key='Datetime', axis=0, freq='min'))['IP'].count()\n",
    "not_suspicious_req_count = log_df_not_suspicious.groupby(pd.Grouper(key='Datetime', axis=0, freq='min'))['IP'].count()\n",
    "\n",
    "plt.figure(figsize=(14, 4))\n",
    "plt.plot(not_suspicious_req_count.index, not_suspicious_req_count, label='Normal IPs', c='limegreen')\n",
    "plt.plot(suspicious_req_count.index, suspicious_req_count, label='Suspicious IPs', c='r')\n",
    "plt.title(\"# of Request Made (Per Minute)\")\n",
    "plt.legend()\n",
    "plt.ylim((0, 250))\n",
    "plt.grid(visible=True)\n",
    "plt.show()"
   ]
  },
  {
   "cell_type": "code",
   "execution_count": 47,
   "id": "70cce67f",
   "metadata": {},
   "outputs": [
    {
     "name": "stdout",
     "output_type": "stream",
     "text": [
      "suspicious requests:\n"
     ]
    },
    {
     "data": {
      "text/plain": [
       "Page\n",
       "/search                                     1743\n",
       "/privacy-policy                              563\n",
       "/about                                       542\n",
       "/contact                                     540\n",
       "/articles/the-evolution-of-jazz              540\n",
       "/interviews/studio-sessions-with-legends     534\n",
       "/podcasts/music-producer-interviews          530\n",
       "/reviews/album-review-midnight-echoes        529\n",
       "/terms-of-service                            523\n",
       "/articles/indie-rock-revival-2024            521\n",
       "Name: count, dtype: int64"
      ]
     },
     "metadata": {},
     "output_type": "display_data"
    },
    {
     "name": "stdout",
     "output_type": "stream",
     "text": [
      "not suspicious requests:\n"
     ]
    },
    {
     "data": {
      "text/plain": [
       "Page\n",
       "/episodes/ep-42-synthesizer-history    15359\n",
       "/contact                               15299\n",
       "/about                                 15187\n",
       "/api/podcasts                          15175\n",
       "/artists/emerging-indie-artists        15166\n",
       "/podcasts/music-producer-interviews    15155\n",
       "/articles/indie-rock-revival-2024      15135\n",
       "/podcasts/behind-the-beat              15116\n",
       "/                                      15111\n",
       "/privacy-policy                        15103\n",
       "Name: count, dtype: int64"
      ]
     },
     "metadata": {},
     "output_type": "display_data"
    }
   ],
   "source": [
    "# what specific pages did they request\n",
    "\n",
    "print(\"suspicious requests:\")\n",
    "display(log_df_suspicious['Page'].value_counts().head(10))\n",
    "\n",
    "print(\"not suspicious requests:\")\n",
    "display(log_df_not_suspicious['Page'].value_counts().head(10))"
   ]
  },
  {
   "cell_type": "code",
   "execution_count": 48,
   "id": "5b86dd4c",
   "metadata": {},
   "outputs": [
    {
     "name": "stdout",
     "output_type": "stream",
     "text": [
      "suspicious requests:\n"
     ]
    },
    {
     "data": {
      "text/plain": [
       "Page Main\n",
       "api               0.425000\n",
       "search            0.048417\n",
       "articles          0.029472\n",
       "podcasts          0.029167\n",
       "auth              0.025000\n",
       "admin             0.025000\n",
       "privacy-policy    0.015639\n",
       "about             0.015056\n",
       "contact           0.015000\n",
       "interviews        0.014833\n",
       "Name: proportion, dtype: float64"
      ]
     },
     "metadata": {},
     "output_type": "display_data"
    },
    {
     "name": "stdout",
     "output_type": "stream",
     "text": [
      "not suspicious requests:\n"
     ]
    },
    {
     "data": {
      "text/plain": [
       "Page Main\n",
       "api         0.150994\n",
       "podcasts    0.076423\n",
       "articles    0.075903\n",
       "images      0.075396\n",
       "static      0.075159\n",
       "episodes    0.038776\n",
       "contact     0.038624\n",
       "about       0.038342\n",
       "artists     0.038289\n",
       "            0.038150\n",
       "Name: proportion, dtype: float64"
      ]
     },
     "metadata": {},
     "output_type": "display_data"
    }
   ],
   "source": [
    "# what parts of the site generally did they request\n",
    "\n",
    "print(\"suspicious requests:\")\n",
    "display(log_df_suspicious['Page Main'].value_counts(normalize=True).head(10))\n",
    "\n",
    "print(\"not suspicious requests:\")\n",
    "display(log_df_not_suspicious['Page Main'].value_counts(normalize=True).head(10))"
   ]
  },
  {
   "cell_type": "code",
   "execution_count": 52,
   "id": "385360fe",
   "metadata": {},
   "outputs": [
    {
     "name": "stdout",
     "output_type": "stream",
     "text": [
      "suspicious IP http requests:\n"
     ]
    },
    {
     "data": {
      "text/plain": [
       "Req Code\n",
       "GET        0.541917\n",
       "POST       0.244194\n",
       "PATCH      0.044500\n",
       "DELETE     0.043333\n",
       "HEAD       0.043333\n",
       "PUT        0.041639\n",
       "OPTIONS    0.041083\n",
       "Name: proportion, dtype: float64"
      ]
     },
     "metadata": {},
     "output_type": "display_data"
    },
    {
     "name": "stdout",
     "output_type": "stream",
     "text": [
      "\n",
      "notsuspicious IP http requests:\n"
     ]
    },
    {
     "data": {
      "text/plain": [
       "Req Code\n",
       "GET       0.854316\n",
       "POST      0.116795\n",
       "PUT       0.019455\n",
       "DELETE    0.009435\n",
       "Name: proportion, dtype: float64"
      ]
     },
     "metadata": {},
     "output_type": "display_data"
    },
    {
     "name": "stdout",
     "output_type": "stream",
     "text": [
      "\n",
      "\n",
      "suspicious IP response codes:\n"
     ]
    },
    {
     "data": {
      "text/plain": [
       "Code Class\n",
       "4    0.460778\n",
       "2    0.418167\n",
       "5    0.121056\n",
       "Name: proportion, dtype: float64"
      ]
     },
     "metadata": {},
     "output_type": "display_data"
    },
    {
     "name": "stdout",
     "output_type": "stream",
     "text": [
      "\n",
      "not suspicious IP response codes:\n"
     ]
    },
    {
     "data": {
      "text/plain": [
       "Code Class\n",
       "2    0.857499\n",
       "4    0.076333\n",
       "3    0.056666\n",
       "5    0.009503\n",
       "Name: proportion, dtype: float64"
      ]
     },
     "metadata": {},
     "output_type": "display_data"
    }
   ],
   "source": [
    "# what were the request codes, lots of invalid ??\n",
    "# 200 means a valid request\n",
    "\n",
    "suspicious_req_codes = log_df_suspicious['Req Code'].value_counts(normalize=True)\n",
    "not_suspicious_req_codes = log_df_not_suspicious['Req Code'].value_counts(normalize=True)\n",
    "\n",
    "suspicious_req_classes = log_df_suspicious['Code Class'].value_counts(normalize=True)\n",
    "not_suspicious_req_classes = log_df_not_suspicious['Code Class'].value_counts(normalize=True)\n",
    "\n",
    "print(\"suspicious IP http requests:\")\n",
    "display(suspicious_req_codes)\n",
    "print(\"\\nnotsuspicious IP http requests:\")\n",
    "display(not_suspicious_req_codes)\n",
    "\n",
    "print(\"\\n\\nsuspicious IP response codes:\")\n",
    "display(suspicious_req_classes)\n",
    "print(\"\\nnot suspicious IP response codes:\")\n",
    "display(not_suspicious_req_classes)\n",
    "\n",
    "# list most common request codes\n",
    "# highlight errors"
   ]
  },
  {
   "cell_type": "code",
   "execution_count": 68,
   "id": "5f2213c8",
   "metadata": {},
   "outputs": [
    {
     "name": "stderr",
     "output_type": "stream",
     "text": [
      "C:\\Users\\poppy\\AppData\\Local\\Temp\\ipykernel_18068\\1654801763.py:19: UserWarning: FigureCanvasAgg is non-interactive, and thus cannot be shown\n",
      "  fig.show()\n"
     ]
    },
    {
     "data": {
      "image/png": "[encoded data removed]",
      "text/plain": [
       "<Figure size 1000x600 with 2 Axes>"
      ]
     },
     "metadata": {},
     "output_type": "display_data"
    }
   ],
   "source": [
    "# object size\n",
    "suspicious_object_size = log_df_suspicious['Object Size']\n",
    "not_suspicious_object_size = log_df_not_suspicious['Object Size']\n",
    "\n",
    "fig, ax = plt.subplots(1, 2, figsize=(10, 6))\n",
    "\n",
    "ax[0].boxplot(suspicious_object_size, label='Suspicious', medianprops={'color':'r'})\n",
    "ax[0].grid()\n",
    "ax[0].set_ylim((0, 800))\n",
    "ax[0].set_xlabel('Suspicious')\n",
    "\n",
    "ax[1].boxplot(not_suspicious_object_size, label='Not Suspicious', medianprops={'color':'limegreen'})\n",
    "ax[1].grid()\n",
    "ax[1].set_ylim((0, 800))\n",
    "ax[1].set_xlabel('Not Suspicious')\n",
    "fig.suptitle(\"Object Size (bytes) of Request Result\")\n",
    "\n",
    "fig.tight_layout()\n",
    "fig.show()"
   ]
  },
  {
   "cell_type": "code",
   "execution_count": 75,
   "id": "0576533d",
   "metadata": {},
   "outputs": [
    {
     "name": "stdout",
     "output_type": "stream",
     "text": [
      "suspicious user agents:\n"
     ]
    },
    {
     "data": {
      "text/plain": [
       "User Agent\n",
       "Mozilla/5.0 (Windows NT 10.0; Win64; x64) AppleWebKit/537.36 (KHTML, like Gecko) Chrome/120.0.0.0 Safari/537.36                              5421\n",
       "Wget/1.20.3 (linux-gnu)                                                                                                                      3600\n",
       "Mozilla/5.0 (Macintosh; Intel Mac OS X 10_15_7) AppleWebKit/537.36 (KHTML, like Gecko) Version/17.2.1 Safari/537.36                          3538\n",
       "curl/7.68.0                                                                                                                                  2173\n",
       "HTTPie/3.2.0                                                                                                                                 2075\n",
       "python-requests/2.28.1                                                                                                                       2069\n",
       "Mozilla/5.0 (Windows NT 10.0; Win64; x64) AppleWebKit/537.36 (KHTML, like Gecko) Chrome/120.0.0.0 Safari/537.36 Edg/120.0.0.0                1871\n",
       "Mozilla/5.0 (Macintosh; Intel Mac OS X 10_15_7) AppleWebKit/537.36 (KHTML, like Gecko) Chrome/120.0.0.0 Safari/537.36                        1807\n",
       "Mozilla/5.0 (iPhone; CPU iPhone OS 17_2_1 like Mac OS X) AppleWebKit/605.1.15 (KHTML, like Gecko) Version/17.2 Mobile/15E148 Safari/604.1    1763\n",
       "sqlmap/1.6.12                                                                                                                                1267\n",
       "Postman/1.0                                                                                                                                  1246\n",
       "OWASP ZAP                                                                                                                                    1235\n",
       "nikto/2.1.6                                                                                                                                  1184\n",
       "Burp Suite Professional                                                                                                                      1172\n",
       "Mozilla/5.0 (compatible; Nmap Scripting Engine)                                                                                              1117\n",
       "Apache-HttpClient/4.5.13                                                                                                                      932\n",
       "Mozilla/5.0 (Windows NT 10.0; Win64; x64) AppleWebKit/537.36                                                                                  911\n",
       "Mozilla/5.0 (X11; Linux x86_64) AppleWebKit/537.36                                                                                            896\n",
       "PostmanRuntime/7.32.3                                                                                                                         882\n",
       "okhttp/4.9.3                                                                                                                                  841\n",
       "Name: count, dtype: int64"
      ]
     },
     "metadata": {},
     "output_type": "display_data"
    },
    {
     "name": "stdout",
     "output_type": "stream",
     "text": [
      "\n",
      "not suspicious user agents:\n"
     ]
    },
    {
     "data": {
      "text/plain": [
       "User Agent\n",
       "Mozilla/5.0 (Windows NT 10.0; Win64; x64; rv:121.0) Gecko/20100101 Firefox/121.0                                                             39852\n",
       "Mozilla/5.0 (Android 14; Mobile; rv:121.0) Gecko/121.0 Firefox/121.0                                                                         39817\n",
       "Mozilla/5.0 (X11; Linux x86_64) AppleWebKit/537.36 (KHTML, like Gecko) Chrome/120.0.0.0 Safari/537.36                                        39816\n",
       "Mozilla/5.0 (iPhone; CPU iPhone OS 17_2_1 like Mac OS X) AppleWebKit/605.1.15 (KHTML, like Gecko) Version/17.2 Mobile/15E148 Safari/604.1    39718\n",
       "Mozilla/5.0 (Linux; Android 14; SM-G998B) AppleWebKit/537.36 (KHTML, like Gecko) Chrome/120.0.0.0 Mobile Safari/537.36                       39670\n",
       "Mozilla/5.0 (iPad; CPU OS 17_2_1 like Mac OS X) AppleWebKit/605.1.15 (KHTML, like Gecko) Version/17.2 Mobile/15E148 Safari/604.1             39654\n",
       "Mozilla/5.0 (Windows NT 10.0; Win64; x64) AppleWebKit/537.36 (KHTML, like Gecko) Chrome/120.0.0.0 Safari/537.36                              39461\n",
       "Mozilla/5.0 (Macintosh; Intel Mac OS X 10_15_7) AppleWebKit/537.36 (KHTML, like Gecko) Version/17.2.1 Safari/537.36                          39416\n",
       "Mozilla/5.0 (Windows NT 10.0; Win64; x64) AppleWebKit/537.36 (KHTML, like Gecko) Chrome/120.0.0.0 Safari/537.36 Edg/120.0.0.0                39362\n",
       "Mozilla/5.0 (Macintosh; Intel Mac OS X 10_15_7) AppleWebKit/537.36 (KHTML, like Gecko) Chrome/120.0.0.0 Safari/537.36                        39330\n",
       "Name: count, dtype: int64"
      ]
     },
     "metadata": {},
     "output_type": "display_data"
    }
   ],
   "source": [
    "# what user agents were they using\n",
    "\n",
    "suspicious_agents = log_df_suspicious['User Agent']\n",
    "not_suspicious_agents = log_df_not_suspicious['User Agent']\n",
    "\n",
    "suspicious_agents_counts = suspicious_agents.value_counts()\n",
    "not_suspicious_agents_counts = not_suspicious_agents.value_counts()\n",
    "\n",
    "print(\"suspicious user agents:\")\n",
    "display(suspicious_agents_counts)\n",
    "print(\"\\nnot suspicious user agents:\")\n",
    "display(not_suspicious_agents_counts)"
   ]
  },
  {
   "cell_type": "markdown",
   "id": "e87c272f",
   "metadata": {},
   "source": [
    "##### Suspicious User Agents"
   ]
  },
  {
   "cell_type": "code",
   "execution_count": 77,
   "id": "ed2f68a1",
   "metadata": {},
   "outputs": [
    {
     "name": "stdout",
     "output_type": "stream",
     "text": [
      "user agents found to be suspicious:\n",
      "HTTPie/3.2.0\n",
      "nikto/2.1.6\n",
      "python-requests/2.28.1\n",
      "Apache-HttpClient/4.5.13\n",
      "Burp Suite Professional\n",
      "Mozilla/5.0 (Windows NT 10.0; Win64; x64) AppleWebKit/537.36\n",
      "curl/7.68.0\n",
      "sqlmap/1.6.12\n",
      "PostmanRuntime/7.32.3\n",
      "OWASP ZAP\n",
      "Mozilla/5.0 (compatible; Nmap Scripting Engine)\n",
      "Mozilla/5.0 (X11; Linux x86_64) AppleWebKit/537.36\n",
      "Postman/1.0\n",
      "okhttp/4.9.3\n",
      "Wget/1.20.3 (linux-gnu)\n"
     ]
    }
   ],
   "source": [
    "suspicious_user_agent_names = set(suspicious_agents_counts.index) - set(not_suspicious_agents_counts.index)\n",
    "print(\"user agents found to be suspicious:\")\n",
    "for ua in list(suspicious_user_agent_names): print(ua)"
   ]
  },
  {
   "cell_type": "code",
   "execution_count": 78,
   "id": "5e8a9aea",
   "metadata": {},
   "outputs": [
    {
     "name": "stdout",
     "output_type": "stream",
     "text": [
      "suspicious locations:\n"
     ]
    },
    {
     "data": {
      "text/plain": [
       "Country\n",
       "RU    0.584676\n",
       "US    0.166667\n",
       "CN    0.083750\n",
       "KP    0.082778\n",
       "IR    0.082130\n",
       "Name: proportion, dtype: float64"
      ]
     },
     "metadata": {},
     "output_type": "display_data"
    },
    {
     "name": "stdout",
     "output_type": "stream",
     "text": [
      "not suspicious locations:\n"
     ]
    },
    {
     "data": {
      "text/plain": [
       "Country\n",
       "UK    0.132072\n",
       "SE    0.096810\n",
       "NL    0.096768\n",
       "DE    0.096539\n",
       "CA    0.096515\n",
       "FR    0.096505\n",
       "US    0.096408\n",
       "AU    0.096230\n",
       "NO    0.096135\n",
       "DK    0.096018\n",
       "Name: proportion, dtype: float64"
      ]
     },
     "metadata": {},
     "output_type": "display_data"
    }
   ],
   "source": [
    "# what locations were they used from\n",
    "log_df_user_agent_suspicious = log_df[log_df['User Agent'].isin(list(suspicious_user_agent_names))]\n",
    "log_df_user_agent_not_suspicious = log_df[~log_df['User Agent'].isin(list(suspicious_user_agent_names))]\n",
    "\n",
    "print(\"suspicious locations:\")\n",
    "sus_locations = log_df_user_agent_suspicious['Country'].value_counts(normalize=True)\n",
    "display(sus_locations)\n",
    "\n",
    "print(\"not suspicious locations:\")\n",
    "not_sus_locations = log_df_user_agent_not_suspicious['Country'].value_counts(normalize=True)\n",
    "display(not_sus_locations)"
   ]
  },
  {
   "cell_type": "markdown",
   "id": "3b31f519",
   "metadata": {},
   "source": [
    "#### Conclusions:"
   ]
  },
  {
   "cell_type": "markdown",
   "id": "aa38479e",
   "metadata": {},
   "source": [
    "**IP Addresses:** There were a handful of IP addresses that made a large number of requests, in huge bursts at regular intervals, indicating suspicious activity. These IPs could be blocked in the future."
   ]
  },
  {
   "cell_type": "markdown",
   "id": "362ec707",
   "metadata": {},
   "source": [
    "**Dates & Times:** There are daily patterns to when people visit the site which can be anticipated. The suspicious requests however do appear to come at specific points, leading to the huge surges in requests."
   ]
  },
  {
   "cell_type": "markdown",
   "id": "87890778",
   "metadata": {},
   "source": [
    "**Pages:** Suspicious IPs tended to target the API a lot more than non-suspicious ones, as well as the search part of the website. There was also one specific podcast episode page that was visited a huge number of times by human users - this must have been a huge driver to the site. "
   ]
  },
  {
   "cell_type": "markdown",
   "id": "eab10ab0",
   "metadata": {},
   "source": [
    "**HTTP Requests & Responses:** The majority of requests to the site were successful (response codes starting with 2), however the suspicious IPs' requests mostly resulted in errors, and had made requests outside of the usual 'GET', 'POST', 'PUT', which also indicates suspicious behaviour. "
   ]
  },
  {
   "cell_type": "markdown",
   "id": "ba0229b5",
   "metadata": {},
   "source": [
    "**Location:** The country with the most requests is the UK, to be expected, however a significant number of the suspicious requests seemed to come from Russia."
   ]
  }
 ],
 "metadata": {
  "kernelspec": {
   "display_name": "generalvenv",
   "language": "python",
   "name": "python3"
  },
  "language_info": {
   "codemirror_mode": {
    "name": "ipython",
    "version": 3
   },
   "file_extension": ".py",
   "mimetype": "text/x-python",
   "name": "python",
   "nbconvert_exporter": "python",
   "pygments_lexer": "ipython3",
   "version": "3.13.2"
  }
 },
 "nbformat": 4,
 "nbformat_minor": 5
}
